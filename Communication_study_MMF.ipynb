{
 "cells": [
  {
   "cell_type": "markdown",
   "metadata": {},
   "source": [
    "# Communication statistics study\n",
    "In this document we will build a model to predict audience for articles published in a company internal magazine.\n",
    "Raw data have been extracted in html form from the company intranet. Articles arepublished on 3 web media :\n",
    "1. L'Accent, which is the official internal magazine\n",
    "2. L'Accent Manager, which is a subside from the previous one, but only for the company executives\n",
    "3. On Air, which is also a susbide from L'Accent but only with videos and audios\n",
    "\n",
    "For each of these media we have the title of the articles, its teaser in a few lines, its publishing date, its theme, sometimes its sub theme and finally the numbers of views, and the number of likes which we will try to predict.\n",
    "\n",
    "Resume:\n",
    "After extracting the data from raw html documents, we'll build visualizations which shows that any model using only the theme of an article to predict its audience will produce unsufficient results since the distribution of views for a given theme is widely spread. This conclusion will lead us to a model taking into account the words in the title of each articles using the bag of words technique. We'll then see if another clustering of the articles based on the bag of words could be a better predictor of its final views than the theme."
   ]
  },
  {
   "cell_type": "markdown",
   "metadata": {},
   "source": [
    "## Creating a proper csv from an html document"
   ]
  },
  {
   "cell_type": "raw",
   "metadata": {},
   "source": [
    "Raw data have been extracted in html form from the company intranet (with the company corporate communication approval) using Google Chromium web browser DOM inspector. \n",
    "To get rid of all the html tags in the documents we use the software \"Sublime\" which allow us to catch REGEX expressions. Html tags are all written in the form <script*>,to catch these using REGEX we use the following expression:\n",
    "<[^>]*> and we replace it by ; to create a csv\n",
    "^(?!.*\\n\\d).* to verify that each new line correspond to a new date entry\n",
    "\n",
    "Then with a few operations to clean the document (header, footer, successive commas, conversion to UTF-8 need to get rid of accents, Sublime allows saving with automatic encoding to UTF-8).\n",
    "\n",
    "Using Sublime we have now three documents in proper csv format."
   ]
  },
  {
   "cell_type": "markdown",
   "metadata": {
    "collapsed": true
   },
   "source": [
    "## Building a data model\n",
    "We first aim at creating 3 pandas dataframe to perform analysis. These dataframe shall have the following form:\n",
    "- Laccent articles : ['DATE', 'TITRE', 'RESUME', 'THEME', 'SOUS_THEME', 'LIKES', 'VUES']\n",
    "- onair articles : ['DATE', 'THEME', 'SOUS_THEME', 'TITRE', 'DUREE', 'VUES']\n",
    "- Laccent manager articles : ['DATE', 'TITRE', 'RESUME', 'THEME', 'SOUS_THEME', 'LIKES', 'VUES']\n",
    "\n",
    "For that we import the proper Python libraries for dataframe creation and to attribute the proper data type to each column. We import matplotlib pyplot for Dataviz."
   ]
  },
  {
   "cell_type": "code",
   "execution_count": 2,
   "metadata": {
    "collapsed": false
   },
   "outputs": [],
   "source": [
    "#Libraries import\n",
    "import numpy as np\n",
    "import pandas as pd\n",
    "import matplotlib.pyplot as plt\n",
    "import datetime"
   ]
  },
  {
   "cell_type": "code",
   "execution_count": 3,
   "metadata": {
    "collapsed": false
   },
   "outputs": [
    {
     "name": "stdout",
     "output_type": "stream",
     "text": [
      "['DATE', 'TITRE', 'RESUME', 'THEME', 'SOUS_THEME', 'LIKES', 'VUES', 'Unnamed: 7']\n",
      "['DATE', 'THEME', 'SOUS_THEME', 'TITRE', 'DUREE', 'VUES', 'Unnamed: 6']\n"
     ]
    }
   ],
   "source": [
    "#CSV document import\n",
    "Laccent=pd.read_csv(\"/home/reddowan/Documents/AirFrance/Laccent_extract.csv\", sep=\";\")\n",
    "onair=pd.read_csv(\"/home/reddowan/Documents/AirFrance/onair_extract.csv\", sep=\";\")\n",
    "\n",
    "#We print the dataframe columns for verification\n",
    "print(list(Laccent.columns.values))\n",
    "print(list(onair.columns.values))"
   ]
  },
  {
   "cell_type": "code",
   "execution_count": 4,
   "metadata": {
    "collapsed": false
   },
   "outputs": [
    {
     "data": {
      "text/plain": [
       "Int64Index([  0,   1,   2,   3,   4,   5,   6,   7,   8,   9,\n",
       "            ...\n",
       "            548, 549, 550, 551, 552, 553, 554, 555, 556, 557],\n",
       "           dtype='int64', length=558)"
      ]
     },
     "execution_count": 4,
     "metadata": {},
     "output_type": "execute_result"
    }
   ],
   "source": [
    "#An Unnamed column has been created in both cases, there may be errors in the csv files, we checking these columns to see if they contain any data\n",
    "Laccent['Unnamed: 7'].index[Laccent['Unnamed: 7'].apply(np.isnan)]\n",
    "onair['Unnamed: 6'].index[onair['Unnamed: 6'].apply(np.isnan)]"
   ]
  },
  {
   "cell_type": "code",
   "execution_count": 5,
   "metadata": {
    "collapsed": true
   },
   "outputs": [],
   "source": [
    "#They do not contain data so we get rid of these unnamed columns\n",
    "Laccent=pd.DataFrame(Laccent, columns=['DATE','TITRE','RESUME','THEME','SOUS_THEME','LIKES','VUES'])\n",
    "onair=pd.DataFrame(onair, columns=['DATE','TITRE','THEME','SOUS_THEME','DUREE','VUES'])"
   ]
  },
  {
   "cell_type": "code",
   "execution_count": 6,
   "metadata": {
    "collapsed": false
   },
   "outputs": [
    {
     "name": "stderr",
     "output_type": "stream",
     "text": [
      "/home/reddowan/anaconda3/lib/python3.5/site-packages/ipykernel/__main__.py:3: SettingWithCopyWarning: \n",
      "A value is trying to be set on a copy of a slice from a DataFrame\n",
      "\n",
      "See the caveats in the documentation: http://pandas.pydata.org/pandas-docs/stable/indexing.html#indexing-view-versus-copy\n",
      "  app.launch_new_instance()\n",
      "/home/reddowan/anaconda3/lib/python3.5/site-packages/ipykernel/__main__.py:4: SettingWithCopyWarning: \n",
      "A value is trying to be set on a copy of a slice from a DataFrame\n",
      "\n",
      "See the caveats in the documentation: http://pandas.pydata.org/pandas-docs/stable/indexing.html#indexing-view-versus-copy\n"
     ]
    }
   ],
   "source": [
    "#Converting Laccent column DATE from string to datetime and VUES to int, in order to have the proper datatypes\n",
    "for index,row in Laccent.iterrows():\n",
    "    Laccent['DATE'][index]=datetime.datetime.strptime(Laccent['DATE'][index], \"%d.%m.%Y\").date()\n",
    "    Laccent['VUES'][index]=int(Laccent['VUES'][index])"
   ]
  },
  {
   "cell_type": "code",
   "execution_count": 7,
   "metadata": {
    "collapsed": false
   },
   "outputs": [
    {
     "name": "stderr",
     "output_type": "stream",
     "text": [
      "/home/reddowan/anaconda3/lib/python3.5/site-packages/ipykernel/__main__.py:3: SettingWithCopyWarning: \n",
      "A value is trying to be set on a copy of a slice from a DataFrame\n",
      "\n",
      "See the caveats in the documentation: http://pandas.pydata.org/pandas-docs/stable/indexing.html#indexing-view-versus-copy\n",
      "  app.launch_new_instance()\n",
      "/home/reddowan/anaconda3/lib/python3.5/site-packages/ipykernel/__main__.py:5: SettingWithCopyWarning: \n",
      "A value is trying to be set on a copy of a slice from a DataFrame\n",
      "\n",
      "See the caveats in the documentation: http://pandas.pydata.org/pandas-docs/stable/indexing.html#indexing-view-versus-copy\n"
     ]
    }
   ],
   "source": [
    "#Converting onair column DATE from string to datetime and VUES to int and DUREE to datetime, in order to have the proper datatypes\n",
    "for index,row in onair.iterrows():\n",
    "    onair['DATE'][index]=datetime.datetime.strptime(onair['DATE'][index], \"%d.%m.%Y\").date()\n",
    "    #print(index,onair['TITRE'][index])\n",
    "    onair['VUES'][index]=int(onair['VUES'][index])\n",
    "    #onair['DUREE'][index]=datetime.datetime.strptime(onair['DUREE'][index], \"%M:%S\").date()"
   ]
  },
  {
   "cell_type": "code",
   "execution_count": 8,
   "metadata": {
    "collapsed": false
   },
   "outputs": [
    {
     "name": "stderr",
     "output_type": "stream",
     "text": [
      "/home/reddowan/anaconda3/lib/python3.5/site-packages/ipykernel/__main__.py:2: FutureWarning: sort(columns=....) is deprecated, use sort_values(by=.....)\n",
      "  from ipykernel import kernelapp as app\n"
     ]
    },
    {
     "data": {
      "text/html": [
       "<div>\n",
       "<table border=\"1\" class=\"dataframe\">\n",
       "  <thead>\n",
       "    <tr style=\"text-align: right;\">\n",
       "      <th></th>\n",
       "      <th>DATE</th>\n",
       "      <th>TITRE</th>\n",
       "      <th>RESUME</th>\n",
       "      <th>THEME</th>\n",
       "      <th>SOUS_THEME</th>\n",
       "      <th>LIKES</th>\n",
       "      <th>VUES</th>\n",
       "    </tr>\n",
       "  </thead>\n",
       "  <tbody>\n",
       "    <tr>\n",
       "      <th>241</th>\n",
       "      <td>2015-12-07</td>\n",
       "      <td>Jeu concours : faites le tour de France en 747 !</td>\n",
       "      <td>Le jeu-concours est terminé ! Voici la liste d...</td>\n",
       "      <td>TALENTS ET METIERS</td>\n",
       "      <td>FLOTTE</td>\n",
       "      <td>117</td>\n",
       "      <td>25340</td>\n",
       "    </tr>\n",
       "    <tr>\n",
       "      <th>249</th>\n",
       "      <td>2015-12-03</td>\n",
       "      <td>AF747 : un vol en hommage au Super Jumbo</td>\n",
       "      <td>Le 14 janvier 2016 prochain, Air France organi...</td>\n",
       "      <td>FLOTTE</td>\n",
       "      <td>CLIENT</td>\n",
       "      <td>72</td>\n",
       "      <td>11254</td>\n",
       "    </tr>\n",
       "    <tr>\n",
       "      <th>171</th>\n",
       "      <td>2016-02-03</td>\n",
       "      <td>Deux fleurons aéronautiques se donnent rendez-...</td>\n",
       "      <td>Le 27 janvier 2016, au-dessus de la Camargue, ...</td>\n",
       "      <td>TALENTS ET METIERS</td>\n",
       "      <td>FLOTTE</td>\n",
       "      <td>143</td>\n",
       "      <td>10186</td>\n",
       "    </tr>\n",
       "    <tr>\n",
       "      <th>207</th>\n",
       "      <td>2016-01-11</td>\n",
       "      <td>Adieux au 747</td>\n",
       "      <td>Le 11 janvier 2016 à 14h, le dernier vol comme...</td>\n",
       "      <td>FLOTTE</td>\n",
       "      <td>TALENTS ET METIERS</td>\n",
       "      <td>112</td>\n",
       "      <td>9549</td>\n",
       "    </tr>\n",
       "    <tr>\n",
       "      <th>35</th>\n",
       "      <td>2016-06-01</td>\n",
       "      <td>Profitez d'une offre wifi internationale réser...</td>\n",
       "      <td>Vous souhaitez rester connecté durant vos séjo...</td>\n",
       "      <td>COMMUNICATION</td>\n",
       "      <td>TALENTS ET METIERS</td>\n",
       "      <td>24</td>\n",
       "      <td>8466</td>\n",
       "    </tr>\n",
       "    <tr>\n",
       "      <th>223</th>\n",
       "      <td>2015-12-17</td>\n",
       "      <td>Second vol en hommage au 747 d'Air France</td>\n",
       "      <td>Air France a reçu près de 30 000 appels en 24 ...</td>\n",
       "      <td>CLIENT</td>\n",
       "      <td>FLOTTE</td>\n",
       "      <td>29</td>\n",
       "      <td>7772</td>\n",
       "    </tr>\n",
       "    <tr>\n",
       "      <th>165</th>\n",
       "      <td>2016-02-09</td>\n",
       "      <td>Participez à l'opération \"Femmes d'Air France ...</td>\n",
       "      <td>A l'occasion de la Journée internationale des ...</td>\n",
       "      <td>TALENTS ET METIERS</td>\n",
       "      <td>NaN</td>\n",
       "      <td>49</td>\n",
       "      <td>5909</td>\n",
       "    </tr>\n",
       "    <tr>\n",
       "      <th>57</th>\n",
       "      <td>2016-05-12</td>\n",
       "      <td>Les Cars Air France deviennent Le Bus Direct</td>\n",
       "      <td>A compter du 12 mai 2016, Kéolis, actionnaire ...</td>\n",
       "      <td>PRODUITS ET SERVICES</td>\n",
       "      <td>CLIENT</td>\n",
       "      <td>0</td>\n",
       "      <td>5697</td>\n",
       "    </tr>\n",
       "    <tr>\n",
       "      <th>258</th>\n",
       "      <td>2015-11-24</td>\n",
       "      <td>Téléchargez la nouvelle application L'accent</td>\n",
       "      <td>Découvrez en exclusivité la toute nouvelle app...</td>\n",
       "      <td>COMMUNICATION</td>\n",
       "      <td>COMMUNICATION</td>\n",
       "      <td>21</td>\n",
       "      <td>5561</td>\n",
       "    </tr>\n",
       "    <tr>\n",
       "      <th>178</th>\n",
       "      <td>2016-01-29</td>\n",
       "      <td>La Patrouille de France salue le 747 !</td>\n",
       "      <td>Le 27 janvier au dessus de la Camargue, douze ...</td>\n",
       "      <td>TALENTS ET METIERS</td>\n",
       "      <td>FLOTTE</td>\n",
       "      <td>112</td>\n",
       "      <td>5461</td>\n",
       "    </tr>\n",
       "  </tbody>\n",
       "</table>\n",
       "</div>"
      ],
      "text/plain": [
       "           DATE                                              TITRE  \\\n",
       "241  2015-12-07   Jeu concours : faites le tour de France en 747 !   \n",
       "249  2015-12-03           AF747 : un vol en hommage au Super Jumbo   \n",
       "171  2016-02-03  Deux fleurons aéronautiques se donnent rendez-...   \n",
       "207  2016-01-11                                      Adieux au 747   \n",
       "35   2016-06-01  Profitez d'une offre wifi internationale réser...   \n",
       "223  2015-12-17          Second vol en hommage au 747 d'Air France   \n",
       "165  2016-02-09  Participez à l'opération \"Femmes d'Air France ...   \n",
       "57   2016-05-12       Les Cars Air France deviennent Le Bus Direct   \n",
       "258  2015-11-24       Téléchargez la nouvelle application L'accent   \n",
       "178  2016-01-29             La Patrouille de France salue le 747 !   \n",
       "\n",
       "                                                RESUME                 THEME  \\\n",
       "241  Le jeu-concours est terminé ! Voici la liste d...    TALENTS ET METIERS   \n",
       "249  Le 14 janvier 2016 prochain, Air France organi...                FLOTTE   \n",
       "171  Le 27 janvier 2016, au-dessus de la Camargue, ...    TALENTS ET METIERS   \n",
       "207  Le 11 janvier 2016 à 14h, le dernier vol comme...                FLOTTE   \n",
       "35   Vous souhaitez rester connecté durant vos séjo...         COMMUNICATION   \n",
       "223  Air France a reçu près de 30 000 appels en 24 ...                CLIENT   \n",
       "165  A l'occasion de la Journée internationale des ...    TALENTS ET METIERS   \n",
       "57   A compter du 12 mai 2016, Kéolis, actionnaire ...  PRODUITS ET SERVICES   \n",
       "258  Découvrez en exclusivité la toute nouvelle app...         COMMUNICATION   \n",
       "178  Le 27 janvier au dessus de la Camargue, douze ...    TALENTS ET METIERS   \n",
       "\n",
       "             SOUS_THEME  LIKES   VUES  \n",
       "241              FLOTTE    117  25340  \n",
       "249              CLIENT     72  11254  \n",
       "171              FLOTTE    143  10186  \n",
       "207  TALENTS ET METIERS    112   9549  \n",
       "35   TALENTS ET METIERS     24   8466  \n",
       "223              FLOTTE     29   7772  \n",
       "165                 NaN     49   5909  \n",
       "57               CLIENT      0   5697  \n",
       "258       COMMUNICATION     21   5561  \n",
       "178              FLOTTE    112   5461  "
      ]
     },
     "execution_count": 8,
     "metadata": {},
     "output_type": "execute_result"
    }
   ],
   "source": [
    "#Let's print the 10 most read articles in the magazine Laccent for verification\n",
    "Laccent.sort(['VUES'], ascending=0).head(10)"
   ]
  },
  {
   "cell_type": "code",
   "execution_count": 9,
   "metadata": {
    "collapsed": false
   },
   "outputs": [
    {
     "name": "stderr",
     "output_type": "stream",
     "text": [
      "/home/reddowan/anaconda3/lib/python3.5/site-packages/ipykernel/__main__.py:2: FutureWarning: sort(columns=....) is deprecated, use sort_values(by=.....)\n",
      "  from ipykernel import kernelapp as app\n"
     ]
    },
    {
     "data": {
      "text/html": [
       "<div>\n",
       "<table border=\"1\" class=\"dataframe\">\n",
       "  <thead>\n",
       "    <tr style=\"text-align: right;\">\n",
       "      <th></th>\n",
       "      <th>DATE</th>\n",
       "      <th>TITRE</th>\n",
       "      <th>THEME</th>\n",
       "      <th>SOUS_THEME</th>\n",
       "      <th>DUREE</th>\n",
       "      <th>VUES</th>\n",
       "    </tr>\n",
       "  </thead>\n",
       "  <tbody>\n",
       "    <tr>\n",
       "      <th>240</th>\n",
       "      <td>2015-03-16</td>\n",
       "      <td>Démonstrations de sécurité</td>\n",
       "      <td>GROUPE ET COMPAGNIE</td>\n",
       "      <td>07 - Sécurité des vols</td>\n",
       "      <td>04:40</td>\n",
       "      <td>25546</td>\n",
       "    </tr>\n",
       "    <tr>\n",
       "      <th>245</th>\n",
       "      <td>2015-03-04</td>\n",
       "      <td>Nouveau film publicitaire</td>\n",
       "      <td>GROUPE ET COMPAGNIE</td>\n",
       "      <td>06 - Communication</td>\n",
       "      <td>01:00</td>\n",
       "      <td>24732</td>\n",
       "    </tr>\n",
       "    <tr>\n",
       "      <th>75</th>\n",
       "      <td>2016-02-01</td>\n",
       "      <td>Rendez-vous de 2 fleurons aéronautiques</td>\n",
       "      <td>GROUPE ET COMPAGNIE</td>\n",
       "      <td>12 - Evénement</td>\n",
       "      <td>03:30</td>\n",
       "      <td>12658</td>\n",
       "    </tr>\n",
       "    <tr>\n",
       "      <th>313</th>\n",
       "      <td>2014-09-19</td>\n",
       "      <td>Message aux pilotes</td>\n",
       "      <td>GROUPE ET COMPAGNIE</td>\n",
       "      <td>01 - Stratégie</td>\n",
       "      <td>4:13</td>\n",
       "      <td>12548</td>\n",
       "    </tr>\n",
       "    <tr>\n",
       "      <th>150</th>\n",
       "      <td>2015-09-08</td>\n",
       "      <td>Interview de Frédéric Gagey</td>\n",
       "      <td>GROUPE ET COMPAGNIE</td>\n",
       "      <td>14 - Perform 2020</td>\n",
       "      <td>05:11</td>\n",
       "      <td>12454</td>\n",
       "    </tr>\n",
       "    <tr>\n",
       "      <th>191</th>\n",
       "      <td>2015-06-16</td>\n",
       "      <td>Mesures d'adaptation : ITW de F.Gagey</td>\n",
       "      <td>GROUPE ET COMPAGNIE</td>\n",
       "      <td>14 - Perform 2020</td>\n",
       "      <td>05:09</td>\n",
       "      <td>11491</td>\n",
       "    </tr>\n",
       "    <tr>\n",
       "      <th>315</th>\n",
       "      <td>2014-09-04</td>\n",
       "      <td>Ebola, le point de vue du CDC</td>\n",
       "      <td>GROUPE ET COMPAGNIE</td>\n",
       "      <td>01 - Stratégie</td>\n",
       "      <td>07:52</td>\n",
       "      <td>11443</td>\n",
       "    </tr>\n",
       "    <tr>\n",
       "      <th>365</th>\n",
       "      <td>2014-05-06</td>\n",
       "      <td>... la nouvelle suite La Première</td>\n",
       "      <td>PRODUITS ET CLIENTS</td>\n",
       "      <td>Tout savoir sur...</td>\n",
       "      <td>00:44</td>\n",
       "      <td>11423</td>\n",
       "    </tr>\n",
       "    <tr>\n",
       "      <th>339</th>\n",
       "      <td>2014-06-18</td>\n",
       "      <td>Making of nouvelles cabines</td>\n",
       "      <td>PRODUITS ET CLIENTS</td>\n",
       "      <td>Les making of</td>\n",
       "      <td>01:16</td>\n",
       "      <td>10490</td>\n",
       "    </tr>\n",
       "    <tr>\n",
       "      <th>257</th>\n",
       "      <td>2015-01-29</td>\n",
       "      <td>Tous ensemble pour retrouver notre place</td>\n",
       "      <td>GROUPE ET COMPAGNIE</td>\n",
       "      <td>14 - Perform 2020</td>\n",
       "      <td>06:21</td>\n",
       "      <td>10155</td>\n",
       "    </tr>\n",
       "  </tbody>\n",
       "</table>\n",
       "</div>"
      ],
      "text/plain": [
       "           DATE                                     TITRE  \\\n",
       "240  2015-03-16                Démonstrations de sécurité   \n",
       "245  2015-03-04                 Nouveau film publicitaire   \n",
       "75   2016-02-01   Rendez-vous de 2 fleurons aéronautiques   \n",
       "313  2014-09-19                       Message aux pilotes   \n",
       "150  2015-09-08               Interview de Frédéric Gagey   \n",
       "191  2015-06-16     Mesures d'adaptation : ITW de F.Gagey   \n",
       "315  2014-09-04             Ebola, le point de vue du CDC   \n",
       "365  2014-05-06         ... la nouvelle suite La Première   \n",
       "339  2014-06-18               Making of nouvelles cabines   \n",
       "257  2015-01-29  Tous ensemble pour retrouver notre place   \n",
       "\n",
       "                   THEME              SOUS_THEME  DUREE   VUES  \n",
       "240  GROUPE ET COMPAGNIE  07 - Sécurité des vols  04:40  25546  \n",
       "245  GROUPE ET COMPAGNIE      06 - Communication  01:00  24732  \n",
       "75   GROUPE ET COMPAGNIE          12 - Evénement  03:30  12658  \n",
       "313  GROUPE ET COMPAGNIE          01 - Stratégie   4:13  12548  \n",
       "150  GROUPE ET COMPAGNIE       14 - Perform 2020  05:11  12454  \n",
       "191  GROUPE ET COMPAGNIE       14 - Perform 2020  05:09  11491  \n",
       "315  GROUPE ET COMPAGNIE          01 - Stratégie  07:52  11443  \n",
       "365  PRODUITS ET CLIENTS      Tout savoir sur...  00:44  11423  \n",
       "339  PRODUITS ET CLIENTS           Les making of  01:16  10490  \n",
       "257  GROUPE ET COMPAGNIE       14 - Perform 2020  06:21  10155  "
      ]
     },
     "execution_count": 9,
     "metadata": {},
     "output_type": "execute_result"
    }
   ],
   "source": [
    "#Let's print also the 10 most seen onair contents\n",
    "onair.sort(['VUES'], ascending=0).head(10)"
   ]
  },
  {
   "cell_type": "markdown",
   "metadata": {
    "collapsed": false
   },
   "source": [
    "## Creating our first dataviz\n",
    "Our aim is to identify clear visible pattern in the data (if there is any). So to start we would like to see the following viz :\n",
    "1. Article number of views distribution (what's the typical number of views for an article? what range?)\n",
    "2. Number of views per article per publishing date (is the number of views per article globally rising?declining? does the date of the article have an influence on its audience?)\n",
    "3. What are the most read article theme by the audience?\n",
    "4. Finaly,is there a clear correlation the theme and the distribution of the number of views?\n",
    "\n",
    "These quetions are essential as they aim at finding what truly interest our readers and if the content is appropriate to what the audience is seeking. Finding the answer to these questions is also key to building our audience predictor, if the theme has no clear influence on views it means that the reader is clicking (or not) on the article basing its judgment of interest on something else which is probably the words of the article title."
   ]
  },
  {
   "cell_type": "code",
   "execution_count": 10,
   "metadata": {
    "collapsed": false
   },
   "outputs": [
    {
     "name": "stdout",
     "output_type": "stream",
     "text": [
      "La moyenne de vue par article Laccent est de 1376.1528239202657 \n",
      "la mediane de vue des articles Laccent est de 868.0 \n",
      "et la deviation standard des articles Laccent est de 2047.0648406180696\n"
     ]
    },
    {
     "data": {
      "image/png": "[encoded data removed]",
      "text/plain": [
       "<matplotlib.figure.Figure at 0x7f3c26d51be0>"
      ]
     },
     "metadata": {},
     "output_type": "display_data"
    }
   ],
   "source": [
    "%matplotlib inline\n",
    "\n",
    "print(\"La moyenne de vue par article Laccent est de\", np.mean(Laccent['VUES']),\n",
    "      \"\\nla mediane de vue des articles Laccent est de\",np.median(Laccent['VUES']),\n",
    "      \"\\net la deviation standard des articles Laccent est de\",np.std(Laccent['VUES']))\n",
    "plt.figure(figsize=(10,10))\n",
    "plt.title('Nb of articles Laccent by number of views')\n",
    "plt.xlabel('Nb of views')\n",
    "plt.ylabel('Nb of articles')\n",
    "plt.hist(Laccent['VUES'],bins=30)\n",
    "plt.show()"
   ]
  },
  {
   "cell_type": "markdown",
   "metadata": {},
   "source": [
    "The result here are interesting because we realize that halfthe articles does not pass 868 number of views which is quite low for a potential audience of 47k people inside the company. We can also see that a few articles have outstanding number of views surpassing 5x to 10x the average."
   ]
  },
  {
   "cell_type": "code",
   "execution_count": 11,
   "metadata": {
    "collapsed": false
   },
   "outputs": [
    {
     "name": "stdout",
     "output_type": "stream",
     "text": [
      "La moyenne de vue par article onair est de 1871.7293906810037 \n",
      "la mediane des articles onair est de 1148.0 \n",
      "et la deviation standard des articles onair est de 2585.476741787897\n"
     ]
    },
    {
     "data": {
      "image/png": "[encoded data removed]",
      "text/plain": [
       "<matplotlib.figure.Figure at 0x7f3c24751c50>"
      ]
     },
     "metadata": {},
     "output_type": "display_data"
    }
   ],
   "source": [
    "print(\"La moyenne de vue par article onair est de\", np.mean(onair['VUES']),\n",
    "      \"\\nla mediane des articles onair est de\",(onair['VUES'].median()),\n",
    "      \"\\net la deviation standard des articles onair est de\",np.std(onair['VUES']))\n",
    "plt.figure(figsize=(10,10))\n",
    "plt.title('Nb of articles ONair by number of views')\n",
    "plt.xlabel('Nb of views')\n",
    "plt.ylabel('Nb of articles')\n",
    "plt.hist(onair['VUES'],bins=30)\n",
    "#plt.hist(onair['VUES'])\n",
    "plt.show()"
   ]
  },
  {
   "cell_type": "markdown",
   "metadata": {},
   "source": [
    "The same observation are true for onair contents."
   ]
  },
  {
   "cell_type": "code",
   "execution_count": 12,
   "metadata": {
    "collapsed": false
   },
   "outputs": [],
   "source": [
    "#list_titre=pd.concat([Laccent['TITRE'],onair['TITRE']],ignore_index=True)\n",
    "#print(list_titre)"
   ]
  },
  {
   "cell_type": "code",
   "execution_count": 13,
   "metadata": {
    "collapsed": false
   },
   "outputs": [
    {
     "data": {
      "image/png": "[encoded data removed]",
      "text/plain": [
       "<matplotlib.figure.Figure at 0x7f3c241d6400>"
      ]
     },
     "metadata": {},
     "output_type": "display_data"
    }
   ],
   "source": [
    "x=Laccent['DATE']\n",
    "y=Laccent['VUES']\n",
    "plt.figure(figsize=(10,10))\n",
    "plt.title('Views by Laccent article date')\n",
    "plt.xlim(xmin=datetime.datetime.strptime(\"01.12.2014\", \"%d.%m.%Y\").date(),xmax=datetime.datetime.strptime(\"04.07.2016\", \"%d.%m.%Y\").date())\n",
    "plt.ylim(ymin=0,ymax=2000)\n",
    "plt.xlabel('Date')\n",
    "plt.ylabel('Views')\n",
    "plt.plot(x,y,'ro')\n",
    "plt.show()"
   ]
  },
  {
   "cell_type": "markdown",
   "metadata": {},
   "source": [
    "This viz is also very interesting, we can see that there must be something missing in the data for the year 2015 for Laccent articles. The web magazine has been put online in the beginning of 2015 and apparently data has been lost. The articles published at the end of 2015 also all have a very low number of views which can only be explained by missing data.\n",
    "Data in 2016 seem complete and there is no clear pattern of a evolution in the global number of views."
   ]
  },
  {
   "cell_type": "code",
   "execution_count": 14,
   "metadata": {
    "collapsed": false
   },
   "outputs": [
    {
     "data": {
      "image/png": "[encoded data removed]",
      "text/plain": [
       "<matplotlib.figure.Figure at 0x7f3c241a93c8>"
      ]
     },
     "metadata": {},
     "output_type": "display_data"
    }
   ],
   "source": [
    "x=onair['DATE']\n",
    "y=onair['VUES']\n",
    "plt.figure(figsize=(10,10))\n",
    "plt.title('Views by ONair article date')\n",
    "plt.ylim(ymin=0,ymax=10000)\n",
    "plt.xlabel('Date')\n",
    "plt.ylabel('Views')\n",
    "plt.plot(x,y,'ro')\n",
    "plt.show()"
   ]
  },
  {
   "cell_type": "markdown",
   "metadata": {},
   "source": [
    "ONair data seem more complete over the time period 2014-2016 as no missing data pattern is apparent on this visualization. We can see that the missing data are probably over the 2013 period where the audience and the number of articles seem oddly low."
   ]
  },
  {
   "cell_type": "code",
   "execution_count": 15,
   "metadata": {
    "collapsed": false
   },
   "outputs": [],
   "source": [
    "#We list the different themes that we have in the dataframe Laccent in an array to perform an analysis by theme.\n",
    "list_theme_Laccent=pd.concat([Laccent['THEME'],Laccent['SOUS_THEME']],ignore_index=True).unique()"
   ]
  },
  {
   "cell_type": "code",
   "execution_count": 16,
   "metadata": {
    "collapsed": false
   },
   "outputs": [
    {
     "name": "stdout",
     "output_type": "stream",
     "text": [
      "['GROUPE ET COMPAGNIE' 'PRODUITS ET CLIENTS' 'MANAGER']\n"
     ]
    }
   ],
   "source": [
    "#We list the different theme the same way for ONair but the structure is not the same, there is three differents main themes and a lot of subthemes\n",
    "print(onair['THEME'].unique())\n",
    "list_theme_onair=pd.concat([onair['THEME'],onair['SOUS_THEME']],ignore_index=True).unique()"
   ]
  },
  {
   "cell_type": "code",
   "execution_count": 17,
   "metadata": {
    "collapsed": false
   },
   "outputs": [
    {
     "name": "stderr",
     "output_type": "stream",
     "text": [
      "/home/reddowan/anaconda3/lib/python3.5/site-packages/ipykernel/__main__.py:6: SettingWithCopyWarning: \n",
      "A value is trying to be set on a copy of a slice from a DataFrame\n",
      "\n",
      "See the caveats in the documentation: http://pandas.pydata.org/pandas-docs/stable/indexing.html#indexing-view-versus-copy\n",
      "/home/reddowan/anaconda3/lib/python3.5/site-packages/ipykernel/__main__.py:7: SettingWithCopyWarning: \n",
      "A value is trying to be set on a copy of a slice from a DataFrame\n",
      "\n",
      "See the caveats in the documentation: http://pandas.pydata.org/pandas-docs/stable/indexing.html#indexing-view-versus-copy\n",
      "/home/reddowan/anaconda3/lib/python3.5/site-packages/ipykernel/__main__.py:8: SettingWithCopyWarning: \n",
      "A value is trying to be set on a copy of a slice from a DataFrame\n",
      "\n",
      "See the caveats in the documentation: http://pandas.pydata.org/pandas-docs/stable/indexing.html#indexing-view-versus-copy\n",
      "/home/reddowan/anaconda3/lib/python3.5/site-packages/ipykernel/__main__.py:5: SettingWithCopyWarning: \n",
      "A value is trying to be set on a copy of a slice from a DataFrame\n",
      "\n",
      "See the caveats in the documentation: http://pandas.pydata.org/pandas-docs/stable/indexing.html#indexing-view-versus-copy\n"
     ]
    }
   ],
   "source": [
    "#Let's analyse some statistics for Laccent by theme likethe total number of articles, views, and a mean\n",
    "resume_Laccent=pd.DataFrame({'THEME':np.zeros(34),'SUM':np.zeros(34),'COUNT':np.zeros(34),'MEAN':np.zeros(34)})\n",
    "\n",
    "for index,row in resume_Laccent.iterrows():\n",
    "    resume_Laccent['THEME'][index]=list_theme_Laccent[index]\n",
    "    resume_Laccent['SUM'][index]=Laccent[Laccent.THEME==list_theme_Laccent[index]]['VUES'].sum()+Laccent[Laccent.SOUS_THEME==list_theme_Laccent[index]]['VUES'].sum()\n",
    "    resume_Laccent['COUNT'][index]=Laccent[Laccent.THEME==list_theme_Laccent[index]]['VUES'].count()+Laccent[Laccent.SOUS_THEME==list_theme_Laccent[index]]['VUES'].count()\n",
    "    resume_Laccent['MEAN'][index]=resume_Laccent['SUM'][index]/resume_Laccent['COUNT'][index]"
   ]
  },
  {
   "cell_type": "code",
   "execution_count": 18,
   "metadata": {
    "collapsed": false
   },
   "outputs": [
    {
     "name": "stderr",
     "output_type": "stream",
     "text": [
      "/home/reddowan/anaconda3/lib/python3.5/site-packages/ipykernel/__main__.py:6: SettingWithCopyWarning: \n",
      "A value is trying to be set on a copy of a slice from a DataFrame\n",
      "\n",
      "See the caveats in the documentation: http://pandas.pydata.org/pandas-docs/stable/indexing.html#indexing-view-versus-copy\n",
      "/home/reddowan/anaconda3/lib/python3.5/site-packages/ipykernel/__main__.py:7: SettingWithCopyWarning: \n",
      "A value is trying to be set on a copy of a slice from a DataFrame\n",
      "\n",
      "See the caveats in the documentation: http://pandas.pydata.org/pandas-docs/stable/indexing.html#indexing-view-versus-copy\n",
      "/home/reddowan/anaconda3/lib/python3.5/site-packages/ipykernel/__main__.py:8: SettingWithCopyWarning: \n",
      "A value is trying to be set on a copy of a slice from a DataFrame\n",
      "\n",
      "See the caveats in the documentation: http://pandas.pydata.org/pandas-docs/stable/indexing.html#indexing-view-versus-copy\n",
      "/home/reddowan/anaconda3/lib/python3.5/site-packages/ipykernel/__main__.py:5: SettingWithCopyWarning: \n",
      "A value is trying to be set on a copy of a slice from a DataFrame\n",
      "\n",
      "See the caveats in the documentation: http://pandas.pydata.org/pandas-docs/stable/indexing.html#indexing-view-versus-copy\n"
     ]
    }
   ],
   "source": [
    "#Same thing for ONair \n",
    "resume_onair=pd.DataFrame({'THEME':np.zeros(34),'SUM':np.zeros(34),'COUNT':np.zeros(34),'MEAN':np.zeros(34)})\n",
    "\n",
    "for index,row in resume_onair.iterrows():\n",
    "    resume_onair['THEME'][index]=list_theme_onair[index]\n",
    "    resume_onair['SUM'][index]=onair[onair.THEME==list_theme_onair[index]]['VUES'].sum()+onair[onair.SOUS_THEME==list_theme_onair[index]]['VUES'].sum()\n",
    "    resume_onair['COUNT'][index]=onair[onair.THEME==list_theme_onair[index]]['VUES'].count()+onair[onair.SOUS_THEME==list_theme_onair[index]]['VUES'].count()\n",
    "    resume_onair['MEAN'][index]=resume_onair['SUM'][index]/resume_onair['COUNT'][index]"
   ]
  },
  {
   "cell_type": "code",
   "execution_count": 19,
   "metadata": {
    "collapsed": false
   },
   "outputs": [
    {
     "name": "stderr",
     "output_type": "stream",
     "text": [
      "/home/reddowan/anaconda3/lib/python3.5/site-packages/ipykernel/__main__.py:2: FutureWarning: sort(columns=....) is deprecated, use sort_values(by=.....)\n",
      "  from ipykernel import kernelapp as app\n"
     ]
    },
    {
     "data": {
      "text/html": [
       "<div>\n",
       "<table border=\"1\" class=\"dataframe\">\n",
       "  <thead>\n",
       "    <tr style=\"text-align: right;\">\n",
       "      <th></th>\n",
       "      <th>COUNT</th>\n",
       "      <th>MEAN</th>\n",
       "      <th>SUM</th>\n",
       "      <th>THEME</th>\n",
       "    </tr>\n",
       "  </thead>\n",
       "  <tbody>\n",
       "    <tr>\n",
       "      <th>14</th>\n",
       "      <td>27.0</td>\n",
       "      <td>3464.333333</td>\n",
       "      <td>93537.0</td>\n",
       "      <td>FLOTTE</td>\n",
       "    </tr>\n",
       "    <tr>\n",
       "      <th>1</th>\n",
       "      <td>77.0</td>\n",
       "      <td>1784.350649</td>\n",
       "      <td>137395.0</td>\n",
       "      <td>TALENTS ET METIERS</td>\n",
       "    </tr>\n",
       "    <tr>\n",
       "      <th>20</th>\n",
       "      <td>9.0</td>\n",
       "      <td>1502.333333</td>\n",
       "      <td>13521.0</td>\n",
       "      <td>TRANSAVIA</td>\n",
       "    </tr>\n",
       "    <tr>\n",
       "      <th>8</th>\n",
       "      <td>14.0</td>\n",
       "      <td>1483.714286</td>\n",
       "      <td>20772.0</td>\n",
       "      <td>PRODUITS ET SERVICES</td>\n",
       "    </tr>\n",
       "    <tr>\n",
       "      <th>0</th>\n",
       "      <td>102.0</td>\n",
       "      <td>1369.117647</td>\n",
       "      <td>139650.0</td>\n",
       "      <td>CLIENT</td>\n",
       "    </tr>\n",
       "    <tr>\n",
       "      <th>3</th>\n",
       "      <td>86.0</td>\n",
       "      <td>1364.953488</td>\n",
       "      <td>117386.0</td>\n",
       "      <td>STRATEGIE</td>\n",
       "    </tr>\n",
       "    <tr>\n",
       "      <th>10</th>\n",
       "      <td>30.0</td>\n",
       "      <td>1349.733333</td>\n",
       "      <td>40492.0</td>\n",
       "      <td>COMMUNICATION</td>\n",
       "    </tr>\n",
       "    <tr>\n",
       "      <th>13</th>\n",
       "      <td>38.0</td>\n",
       "      <td>1209.710526</td>\n",
       "      <td>45969.0</td>\n",
       "      <td>PASSAGE</td>\n",
       "    </tr>\n",
       "    <tr>\n",
       "      <th>6</th>\n",
       "      <td>12.0</td>\n",
       "      <td>1056.250000</td>\n",
       "      <td>12675.0</td>\n",
       "      <td>PRIX ET RECOMPENSES</td>\n",
       "    </tr>\n",
       "    <tr>\n",
       "      <th>15</th>\n",
       "      <td>11.0</td>\n",
       "      <td>1029.636364</td>\n",
       "      <td>11326.0</td>\n",
       "      <td>HOP! AIR FRANCE</td>\n",
       "    </tr>\n",
       "  </tbody>\n",
       "</table>\n",
       "</div>"
      ],
      "text/plain": [
       "    COUNT         MEAN       SUM                 THEME\n",
       "14   27.0  3464.333333   93537.0                FLOTTE\n",
       "1    77.0  1784.350649  137395.0    TALENTS ET METIERS\n",
       "20    9.0  1502.333333   13521.0             TRANSAVIA\n",
       "8    14.0  1483.714286   20772.0  PRODUITS ET SERVICES\n",
       "0   102.0  1369.117647  139650.0                CLIENT\n",
       "3    86.0  1364.953488  117386.0             STRATEGIE\n",
       "10   30.0  1349.733333   40492.0         COMMUNICATION\n",
       "13   38.0  1209.710526   45969.0               PASSAGE\n",
       "6    12.0  1056.250000   12675.0   PRIX ET RECOMPENSES\n",
       "15   11.0  1029.636364   11326.0       HOP! AIR FRANCE"
      ]
     },
     "execution_count": 19,
     "metadata": {},
     "output_type": "execute_result"
    }
   ],
   "source": [
    "#Let's see the 10 most viewed theme on L'accent (filter on theme with more than 5 articles to be representative)\n",
    "resume_Laccent[resume_Laccent.COUNT>5].sort(['MEAN'], ascending=0).head(10)"
   ]
  },
  {
   "cell_type": "code",
   "execution_count": 20,
   "metadata": {
    "collapsed": false
   },
   "outputs": [
    {
     "name": "stderr",
     "output_type": "stream",
     "text": [
      "/home/reddowan/anaconda3/lib/python3.5/site-packages/ipykernel/__main__.py:2: FutureWarning: sort(columns=....) is deprecated, use sort_values(by=.....)\n",
      "  from ipykernel import kernelapp as app\n"
     ]
    },
    {
     "data": {
      "text/html": [
       "<div>\n",
       "<table border=\"1\" class=\"dataframe\">\n",
       "  <thead>\n",
       "    <tr style=\"text-align: right;\">\n",
       "      <th></th>\n",
       "      <th>COUNT</th>\n",
       "      <th>MEAN</th>\n",
       "      <th>SUM</th>\n",
       "      <th>THEME</th>\n",
       "    </tr>\n",
       "  </thead>\n",
       "  <tbody>\n",
       "    <tr>\n",
       "      <th>21</th>\n",
       "      <td>8.0</td>\n",
       "      <td>370.250000</td>\n",
       "      <td>2962.0</td>\n",
       "      <td>FONDATION AIR FRANCE</td>\n",
       "    </tr>\n",
       "    <tr>\n",
       "      <th>9</th>\n",
       "      <td>12.0</td>\n",
       "      <td>670.083333</td>\n",
       "      <td>8041.0</td>\n",
       "      <td>DEVELOPPEMENT DURABLE</td>\n",
       "    </tr>\n",
       "    <tr>\n",
       "      <th>4</th>\n",
       "      <td>6.0</td>\n",
       "      <td>772.166667</td>\n",
       "      <td>4633.0</td>\n",
       "      <td>SECURITE DES VOLS</td>\n",
       "    </tr>\n",
       "    <tr>\n",
       "      <th>5</th>\n",
       "      <td>10.0</td>\n",
       "      <td>813.600000</td>\n",
       "      <td>8136.0</td>\n",
       "      <td>PARTENARIATS</td>\n",
       "    </tr>\n",
       "    <tr>\n",
       "      <th>30</th>\n",
       "      <td>6.0</td>\n",
       "      <td>934.000000</td>\n",
       "      <td>5604.0</td>\n",
       "      <td>RESSOURCES HUMAINES</td>\n",
       "    </tr>\n",
       "    <tr>\n",
       "      <th>7</th>\n",
       "      <td>13.0</td>\n",
       "      <td>947.307692</td>\n",
       "      <td>12315.0</td>\n",
       "      <td>PERFORM 2020</td>\n",
       "    </tr>\n",
       "    <tr>\n",
       "      <th>17</th>\n",
       "      <td>11.0</td>\n",
       "      <td>1010.090909</td>\n",
       "      <td>11111.0</td>\n",
       "      <td>BEST AND BEYOND</td>\n",
       "    </tr>\n",
       "    <tr>\n",
       "      <th>11</th>\n",
       "      <td>18.0</td>\n",
       "      <td>1011.611111</td>\n",
       "      <td>18209.0</td>\n",
       "      <td>GROUPE</td>\n",
       "    </tr>\n",
       "    <tr>\n",
       "      <th>15</th>\n",
       "      <td>11.0</td>\n",
       "      <td>1029.636364</td>\n",
       "      <td>11326.0</td>\n",
       "      <td>HOP! AIR FRANCE</td>\n",
       "    </tr>\n",
       "    <tr>\n",
       "      <th>6</th>\n",
       "      <td>12.0</td>\n",
       "      <td>1056.250000</td>\n",
       "      <td>12675.0</td>\n",
       "      <td>PRIX ET RECOMPENSES</td>\n",
       "    </tr>\n",
       "  </tbody>\n",
       "</table>\n",
       "</div>"
      ],
      "text/plain": [
       "    COUNT         MEAN      SUM                  THEME\n",
       "21    8.0   370.250000   2962.0   FONDATION AIR FRANCE\n",
       "9    12.0   670.083333   8041.0  DEVELOPPEMENT DURABLE\n",
       "4     6.0   772.166667   4633.0      SECURITE DES VOLS\n",
       "5    10.0   813.600000   8136.0           PARTENARIATS\n",
       "30    6.0   934.000000   5604.0    RESSOURCES HUMAINES\n",
       "7    13.0   947.307692  12315.0           PERFORM 2020\n",
       "17   11.0  1010.090909  11111.0        BEST AND BEYOND\n",
       "11   18.0  1011.611111  18209.0                 GROUPE\n",
       "15   11.0  1029.636364  11326.0        HOP! AIR FRANCE\n",
       "6    12.0  1056.250000  12675.0    PRIX ET RECOMPENSES"
      ]
     },
     "execution_count": 20,
     "metadata": {},
     "output_type": "execute_result"
    }
   ],
   "source": [
    "#Let's see the 10 less viewed theme on L'accent (filter on theme with more than 5 articles to be representative)\n",
    "resume_Laccent[resume_Laccent.COUNT>5].sort(['MEAN'], ascending=1).head(10)"
   ]
  },
  {
   "cell_type": "code",
   "execution_count": 21,
   "metadata": {
    "collapsed": false
   },
   "outputs": [
    {
     "name": "stderr",
     "output_type": "stream",
     "text": [
      "/home/reddowan/anaconda3/lib/python3.5/site-packages/ipykernel/__main__.py:2: FutureWarning: sort(columns=....) is deprecated, use sort_values(by=.....)\n",
      "  from ipykernel import kernelapp as app\n"
     ]
    },
    {
     "data": {
      "text/html": [
       "<div>\n",
       "<table border=\"1\" class=\"dataframe\">\n",
       "  <thead>\n",
       "    <tr style=\"text-align: right;\">\n",
       "      <th></th>\n",
       "      <th>COUNT</th>\n",
       "      <th>MEAN</th>\n",
       "      <th>SUM</th>\n",
       "      <th>THEME</th>\n",
       "    </tr>\n",
       "  </thead>\n",
       "  <tbody>\n",
       "    <tr>\n",
       "      <th>25</th>\n",
       "      <td>6.0</td>\n",
       "      <td>10142.833333</td>\n",
       "      <td>60857.0</td>\n",
       "      <td>14 - Perform 2020</td>\n",
       "    </tr>\n",
       "    <tr>\n",
       "      <th>17</th>\n",
       "      <td>9.0</td>\n",
       "      <td>3400.444444</td>\n",
       "      <td>30604.0</td>\n",
       "      <td>03 - Les décodeurs</td>\n",
       "    </tr>\n",
       "    <tr>\n",
       "      <th>29</th>\n",
       "      <td>7.0</td>\n",
       "      <td>3362.000000</td>\n",
       "      <td>23534.0</td>\n",
       "      <td>Les making of</td>\n",
       "    </tr>\n",
       "    <tr>\n",
       "      <th>12</th>\n",
       "      <td>69.0</td>\n",
       "      <td>3055.173913</td>\n",
       "      <td>210807.0</td>\n",
       "      <td>06 - Communication</td>\n",
       "    </tr>\n",
       "    <tr>\n",
       "      <th>7</th>\n",
       "      <td>15.0</td>\n",
       "      <td>3029.866667</td>\n",
       "      <td>45448.0</td>\n",
       "      <td>07 - Sécurité des vols</td>\n",
       "    </tr>\n",
       "    <tr>\n",
       "      <th>3</th>\n",
       "      <td>40.0</td>\n",
       "      <td>2831.975000</td>\n",
       "      <td>113279.0</td>\n",
       "      <td>01 - Stratégie</td>\n",
       "    </tr>\n",
       "    <tr>\n",
       "      <th>23</th>\n",
       "      <td>9.0</td>\n",
       "      <td>2788.666667</td>\n",
       "      <td>25098.0</td>\n",
       "      <td>04 - La boîte à questions</td>\n",
       "    </tr>\n",
       "    <tr>\n",
       "      <th>16</th>\n",
       "      <td>53.0</td>\n",
       "      <td>2759.716981</td>\n",
       "      <td>146265.0</td>\n",
       "      <td>12 - Evénement</td>\n",
       "    </tr>\n",
       "    <tr>\n",
       "      <th>0</th>\n",
       "      <td>318.0</td>\n",
       "      <td>2386.201258</td>\n",
       "      <td>758812.0</td>\n",
       "      <td>GROUPE ET COMPAGNIE</td>\n",
       "    </tr>\n",
       "    <tr>\n",
       "      <th>24</th>\n",
       "      <td>20.0</td>\n",
       "      <td>1922.700000</td>\n",
       "      <td>38454.0</td>\n",
       "      <td>Tout savoir sur...</td>\n",
       "    </tr>\n",
       "  </tbody>\n",
       "</table>\n",
       "</div>"
      ],
      "text/plain": [
       "    COUNT          MEAN       SUM                      THEME\n",
       "25    6.0  10142.833333   60857.0          14 - Perform 2020\n",
       "17    9.0   3400.444444   30604.0         03 - Les décodeurs\n",
       "29    7.0   3362.000000   23534.0              Les making of\n",
       "12   69.0   3055.173913  210807.0         06 - Communication\n",
       "7    15.0   3029.866667   45448.0     07 - Sécurité des vols\n",
       "3    40.0   2831.975000  113279.0             01 - Stratégie\n",
       "23    9.0   2788.666667   25098.0  04 - La boîte à questions\n",
       "16   53.0   2759.716981  146265.0             12 - Evénement\n",
       "0   318.0   2386.201258  758812.0        GROUPE ET COMPAGNIE\n",
       "24   20.0   1922.700000   38454.0         Tout savoir sur..."
      ]
     },
     "execution_count": 21,
     "metadata": {},
     "output_type": "execute_result"
    }
   ],
   "source": [
    "#Let's see the 10 most viewed theme on ONair (filter on theme with more than 5 articles to be representative)\n",
    "resume_onair[resume_onair.COUNT>5].sort(['MEAN'], ascending=0).head(10)"
   ]
  },
  {
   "cell_type": "code",
   "execution_count": 22,
   "metadata": {
    "collapsed": false
   },
   "outputs": [
    {
     "name": "stderr",
     "output_type": "stream",
     "text": [
      "/home/reddowan/anaconda3/lib/python3.5/site-packages/ipykernel/__main__.py:2: FutureWarning: sort(columns=....) is deprecated, use sort_values(by=.....)\n",
      "  from ipykernel import kernelapp as app\n"
     ]
    },
    {
     "data": {
      "text/html": [
       "<div>\n",
       "<table border=\"1\" class=\"dataframe\">\n",
       "  <thead>\n",
       "    <tr style=\"text-align: right;\">\n",
       "      <th></th>\n",
       "      <th>COUNT</th>\n",
       "      <th>MEAN</th>\n",
       "      <th>SUM</th>\n",
       "      <th>THEME</th>\n",
       "    </tr>\n",
       "  </thead>\n",
       "  <tbody>\n",
       "    <tr>\n",
       "      <th>32</th>\n",
       "      <td>13.0</td>\n",
       "      <td>243.307692</td>\n",
       "      <td>3163.0</td>\n",
       "      <td>Offre Industrie</td>\n",
       "    </tr>\n",
       "    <tr>\n",
       "      <th>10</th>\n",
       "      <td>12.0</td>\n",
       "      <td>552.083333</td>\n",
       "      <td>6625.0</td>\n",
       "      <td>Au sol</td>\n",
       "    </tr>\n",
       "    <tr>\n",
       "      <th>20</th>\n",
       "      <td>11.0</td>\n",
       "      <td>759.454545</td>\n",
       "      <td>8354.0</td>\n",
       "      <td>A table</td>\n",
       "    </tr>\n",
       "    <tr>\n",
       "      <th>33</th>\n",
       "      <td>20.0</td>\n",
       "      <td>780.650000</td>\n",
       "      <td>15613.0</td>\n",
       "      <td>02 - La Radio</td>\n",
       "    </tr>\n",
       "    <tr>\n",
       "      <th>27</th>\n",
       "      <td>9.0</td>\n",
       "      <td>815.111111</td>\n",
       "      <td>7336.0</td>\n",
       "      <td>05 - Zoom sur...</td>\n",
       "    </tr>\n",
       "    <tr>\n",
       "      <th>31</th>\n",
       "      <td>7.0</td>\n",
       "      <td>885.714286</td>\n",
       "      <td>6200.0</td>\n",
       "      <td>Offre Cargo</td>\n",
       "    </tr>\n",
       "    <tr>\n",
       "      <th>18</th>\n",
       "      <td>34.0</td>\n",
       "      <td>910.970588</td>\n",
       "      <td>30973.0</td>\n",
       "      <td>11 - La Saga</td>\n",
       "    </tr>\n",
       "    <tr>\n",
       "      <th>30</th>\n",
       "      <td>17.0</td>\n",
       "      <td>917.411765</td>\n",
       "      <td>15596.0</td>\n",
       "      <td>06 - Parlons-En !</td>\n",
       "    </tr>\n",
       "    <tr>\n",
       "      <th>11</th>\n",
       "      <td>19.0</td>\n",
       "      <td>925.315789</td>\n",
       "      <td>17581.0</td>\n",
       "      <td>10 - Engagement</td>\n",
       "    </tr>\n",
       "    <tr>\n",
       "      <th>9</th>\n",
       "      <td>15.0</td>\n",
       "      <td>973.333333</td>\n",
       "      <td>14600.0</td>\n",
       "      <td>01 - Enjeux et stratégie</td>\n",
       "    </tr>\n",
       "  </tbody>\n",
       "</table>\n",
       "</div>"
      ],
      "text/plain": [
       "    COUNT        MEAN      SUM                     THEME\n",
       "32   13.0  243.307692   3163.0           Offre Industrie\n",
       "10   12.0  552.083333   6625.0                    Au sol\n",
       "20   11.0  759.454545   8354.0                   A table\n",
       "33   20.0  780.650000  15613.0             02 - La Radio\n",
       "27    9.0  815.111111   7336.0          05 - Zoom sur...\n",
       "31    7.0  885.714286   6200.0               Offre Cargo\n",
       "18   34.0  910.970588  30973.0              11 - La Saga\n",
       "30   17.0  917.411765  15596.0         06 - Parlons-En !\n",
       "11   19.0  925.315789  17581.0           10 - Engagement\n",
       "9    15.0  973.333333  14600.0  01 - Enjeux et stratégie"
      ]
     },
     "execution_count": 22,
     "metadata": {},
     "output_type": "execute_result"
    }
   ],
   "source": [
    "#Let's see the 10 less viewed theme on ONair (filter on theme with more than 5 articles to be representative)\n",
    "resume_onair[resume_onair.COUNT>5].sort(['MEAN'], ascending=1).head(10)"
   ]
  },
  {
   "cell_type": "markdown",
   "metadata": {},
   "source": [
    "These results are very interesting because they show different topics being mostly viewed by the public which has an explanation because the two medias have been used for different purposes.\n",
    "On L'accent, the most viewed theme corredpond to the arrival of new aircrafts, new products and services, customer and strategy arrives close.\n",
    "On ONair strategy is all over the winning places with Perform videos, the decodeurs which are pedagogic videos on strategy and again strategy.\n",
    "One might think that this has to be put in perspective of the relative number of content published. The following viz shows that compared to other content published at the samedate, strategy/economy related contents are clearly preferred by the viewers."
   ]
  },
  {
   "cell_type": "code",
   "execution_count": 23,
   "metadata": {
    "collapsed": false
   },
   "outputs": [
    {
     "data": {
      "image/png": "[encoded data removed]",
      "text/plain": [
       "<matplotlib.figure.Figure at 0x7f3c2410e7b8>"
      ]
     },
     "metadata": {},
     "output_type": "display_data"
    }
   ],
   "source": [
    "x1=onair['DATE']\n",
    "y1=onair['VUES']\n",
    "\n",
    "x2=onair[onair.SOUS_THEME=='14 - Perform 2020']['DATE']\n",
    "y2=onair[onair.SOUS_THEME=='14 - Perform 2020']['VUES']\n",
    "\n",
    "x3=onair[onair.SOUS_THEME=='03 - Les décodeurs']['DATE']\n",
    "y3=onair[onair.SOUS_THEME=='03 - Les décodeurs']['VUES']\n",
    "\n",
    "x4=onair[onair.SOUS_THEME=='01 - Stratégie']['DATE']\n",
    "y4=onair[onair.SOUS_THEME=='01 - Stratégie']['VUES']\n",
    "\n",
    "x5=onair[onair.SOUS_THEME=='15 - Les décodeurs']['DATE']\n",
    "y5=onair[onair.SOUS_THEME=='15 - Les décodeurs']['VUES']\n",
    "\n",
    "x6=onair[onair.SOUS_THEME=='15 - Les décodeurs']['DATE']\n",
    "y6=onair[onair.SOUS_THEME=='15 - Les décodeurs']['VUES']\n",
    "\n",
    "x7=onair[onair.SOUS_THEME==\"02 - L'éco sur un plateau\"]['DATE']\n",
    "y7=onair[onair.SOUS_THEME==\"02 - L'éco sur un plateau\"]['VUES']\n",
    "\n",
    "x8=onair[onair.SOUS_THEME==\"17- L'éco sur un plateau\"]['DATE']\n",
    "y8=onair[onair.SOUS_THEME==\"17- L'éco sur un plateau\"]['VUES']\n",
    "\n",
    "plt.figure(figsize=(10,10))\n",
    "plt.title('Strategy related views - ONair article date (strategy content in blue)')\n",
    "plt.ylim(ymin=0,ymax=10000)\n",
    "plt.xlabel('Date')\n",
    "plt.ylabel('Views')\n",
    "plt.plot(x1,y1,'ro')\n",
    "plt.plot(x2,y2,'ro',color='blue')\n",
    "plt.plot(x3,y3,'ro',color='blue')\n",
    "plt.plot(x4,y4,'ro',color='blue')\n",
    "plt.plot(x5,y5,'ro',color='blue')\n",
    "plt.plot(x6,y6,'ro',color='blue')\n",
    "plt.plot(x7,y7,'ro',color='blue')\n",
    "plt.plot(x8,y8,'ro',color='blue')\n",
    "\n",
    "plt.show()"
   ]
  },
  {
   "cell_type": "code",
   "execution_count": 24,
   "metadata": {
    "collapsed": false
   },
   "outputs": [],
   "source": [
    "#The seaborn python librarie will allow us to better visualize the distribution of the article views by theme\n",
    "import seaborn as sns"
   ]
  },
  {
   "cell_type": "code",
   "execution_count": 25,
   "metadata": {
    "collapsed": false
   },
   "outputs": [
    {
     "data": {
      "image/png": "[encoded data removed]",
      "text/plain": [
       "<matplotlib.figure.Figure at 0x7f3c241e67f0>"
      ]
     },
     "metadata": {},
     "output_type": "display_data"
    }
   ],
   "source": [
    "#Lets visualize Laccent number of views by the main theme to see if there is a clear pattern\n",
    "plt.figure(figsize=(15,15))\n",
    "plt.ylim(ymin=0,ymax=6000)\n",
    "plt.title('Views by theme')\n",
    "sns.stripplot(x=Laccent['THEME'], y=Laccent['VUES'], data=Laccent, jitter=True);"
   ]
  },
  {
   "cell_type": "markdown",
   "metadata": {},
   "source": [
    "Visualizing a clear trend in Laccent article is a more difficult. It is less obvious to see if a few good articles are responsible for the good statistics or if they rely on a clear public preference."
   ]
  },
  {
   "cell_type": "code",
   "execution_count": 26,
   "metadata": {
    "collapsed": false
   },
   "outputs": [],
   "source": [
    "#We will visualize the influence of the day and the week on the total numbers of views, for that we create new columns in the data\n",
    "onair.insert(loc=1,column='WEEK',value=0)\n",
    "onair.insert(loc=1,column='SUNDAY',value=0)\n",
    "onair.insert(loc=1,column='SATURDAY',value=0)\n",
    "onair.insert(loc=1,column='FRIDAY',value=0)\n",
    "onair.insert(loc=1,column='THURSDAY',value=0)\n",
    "onair.insert(loc=1,column='WEDNESDAY',value=0)\n",
    "onair.insert(loc=1,column='TUESDAY',value=0)\n",
    "onair.insert(loc=1,column='MONDAY',value=0)"
   ]
  },
  {
   "cell_type": "code",
   "execution_count": 27,
   "metadata": {
    "collapsed": false
   },
   "outputs": [
    {
     "name": "stderr",
     "output_type": "stream",
     "text": [
      "/home/reddowan/anaconda3/lib/python3.5/site-packages/ipykernel/__main__.py:3: SettingWithCopyWarning: \n",
      "A value is trying to be set on a copy of a slice from a DataFrame\n",
      "\n",
      "See the caveats in the documentation: http://pandas.pydata.org/pandas-docs/stable/indexing.html#indexing-view-versus-copy\n",
      "  app.launch_new_instance()\n",
      "/home/reddowan/anaconda3/lib/python3.5/site-packages/ipykernel/__main__.py:6: SettingWithCopyWarning: \n",
      "A value is trying to be set on a copy of a slice from a DataFrame\n",
      "\n",
      "See the caveats in the documentation: http://pandas.pydata.org/pandas-docs/stable/indexing.html#indexing-view-versus-copy\n",
      "/home/reddowan/anaconda3/lib/python3.5/site-packages/ipykernel/__main__.py:10: SettingWithCopyWarning: \n",
      "A value is trying to be set on a copy of a slice from a DataFrame\n",
      "\n",
      "See the caveats in the documentation: http://pandas.pydata.org/pandas-docs/stable/indexing.html#indexing-view-versus-copy\n",
      "/home/reddowan/anaconda3/lib/python3.5/site-packages/ipykernel/__main__.py:8: SettingWithCopyWarning: \n",
      "A value is trying to be set on a copy of a slice from a DataFrame\n",
      "\n",
      "See the caveats in the documentation: http://pandas.pydata.org/pandas-docs/stable/indexing.html#indexing-view-versus-copy\n",
      "/home/reddowan/anaconda3/lib/python3.5/site-packages/ipykernel/__main__.py:14: SettingWithCopyWarning: \n",
      "A value is trying to be set on a copy of a slice from a DataFrame\n",
      "\n",
      "See the caveats in the documentation: http://pandas.pydata.org/pandas-docs/stable/indexing.html#indexing-view-versus-copy\n",
      "/home/reddowan/anaconda3/lib/python3.5/site-packages/ipykernel/__main__.py:12: SettingWithCopyWarning: \n",
      "A value is trying to be set on a copy of a slice from a DataFrame\n",
      "\n",
      "See the caveats in the documentation: http://pandas.pydata.org/pandas-docs/stable/indexing.html#indexing-view-versus-copy\n",
      "/home/reddowan/anaconda3/lib/python3.5/site-packages/ipykernel/__main__.py:18: SettingWithCopyWarning: \n",
      "A value is trying to be set on a copy of a slice from a DataFrame\n",
      "\n",
      "See the caveats in the documentation: http://pandas.pydata.org/pandas-docs/stable/indexing.html#indexing-view-versus-copy\n",
      "/home/reddowan/anaconda3/lib/python3.5/site-packages/ipykernel/__main__.py:16: SettingWithCopyWarning: \n",
      "A value is trying to be set on a copy of a slice from a DataFrame\n",
      "\n",
      "See the caveats in the documentation: http://pandas.pydata.org/pandas-docs/stable/indexing.html#indexing-view-versus-copy\n"
     ]
    }
   ],
   "source": [
    "#We fill the columns with the number of the week and to what day in the week it is  \n",
    "for index,row in onair.iterrows():\n",
    "    onair['WEEK'][index]=onair['DATE'][index].toordinal()//7\n",
    "    jour=onair['DATE'][index].isoweekday()\n",
    "    if jour==1:\n",
    "        onair['MONDAY'][index]=1\n",
    "    elif jour==2:\n",
    "        onair['TUESDAY'][index]=1\n",
    "    elif jour==3:\n",
    "        onair['WEDNESDAY'][index]=1\n",
    "    elif jour==4:\n",
    "        onair['THURSDAY'][index]=1\n",
    "    elif jour==5:\n",
    "        onair['FRIDAY'][index]=1\n",
    "    elif jour==6:\n",
    "        onair['SATURDAY'][index]=1\n",
    "    elif jour==7:\n",
    "        onair['SUNDAY'][index]=1\n"
   ]
  },
  {
   "cell_type": "code",
   "execution_count": 28,
   "metadata": {
    "collapsed": false
   },
   "outputs": [
    {
     "data": {
      "image/png": "[encoded data removed]",
      "text/plain": [
       "<matplotlib.figure.Figure at 0x7f3c237dff60>"
      ]
     },
     "metadata": {},
     "output_type": "display_data"
    }
   ],
   "source": [
    "#Visualize the data per week et per day of the week\n",
    "x1=onair[onair.MONDAY==1]['DATE']\n",
    "y1=onair[onair.MONDAY==1]['VUES']\n",
    "\n",
    "x2=onair[onair.TUESDAY==1]['DATE']\n",
    "y2=onair[onair.TUESDAY==1]['VUES']\n",
    "\n",
    "x3=onair[onair.WEDNESDAY==1]['DATE']\n",
    "y3=onair[onair.WEDNESDAY==1]['VUES']\n",
    "\n",
    "x4=onair[onair.THURSDAY==1]['DATE']\n",
    "y4=onair[onair.THURSDAY==1]['VUES']\n",
    "\n",
    "x5=onair[onair.FRIDAY==1]['DATE']\n",
    "y5=onair[onair.FRIDAY==1]['VUES']\n",
    "\n",
    "x6=onair[onair.SATURDAY==1]['DATE']\n",
    "y6=onair[onair.SATURDAY==1]['VUES']\n",
    "\n",
    "x7=onair[onair.SUNDAY==1]['DATE']\n",
    "y7=onair[onair.SUNDAY==1]['VUES']\n",
    "\n",
    "\n",
    "plt.figure(figsize=(10,10))\n",
    "plt.title('Views per day of the week')\n",
    "plt.ylim(ymin=0,ymax=10000)\n",
    "plt.xlabel('Date')\n",
    "plt.ylabel('Views')\n",
    "plt.plot(x2,y2,'ro',color='red')\n",
    "plt.plot(x2,y2,'ro',color='orange')\n",
    "plt.plot(x3,y3,'ro',color='yellow')\n",
    "plt.plot(x4,y4,'ro',color='green')\n",
    "plt.plot(x5,y5,'ro',color='blue')\n",
    "plt.plot(x6,y6,'ro',color='black')\n",
    "plt.plot(x7,y7,'ro',color='black')\n",
    "\n",
    "plt.show()"
   ]
  },
  {
   "cell_type": "code",
   "execution_count": 29,
   "metadata": {
    "collapsed": false
   },
   "outputs": [
    {
     "name": "stdout",
     "output_type": "stream",
     "text": [
      "la mediane de vue des articles onair vus le lundi est 831.5 pour 164 articles\n",
      "la mediane de vue des articles onair vus le mardi est 1007.0 pour 101 articles\n",
      "la mediane de vue des articles onair vus le mercredi est 1201.0 pour 87 articles\n",
      "la mediane de vue des articles onair vus le jeudi est 1361.0 pour 91 articles\n",
      "la mediane de vue des articles onair vus le vendredi est 1720.0 pour 105 articles\n",
      "la mediane de vue des articles onair vus le samedi est 509.0 pour 9 articles\n",
      "la mediane de vue des articles onair vus le dimanche est 5832.0 pour 1 articles\n"
     ]
    }
   ],
   "source": [
    "#Getting a few statistics per day of the week\n",
    "print(\"la mediane de vue des articles onair vus le lundi est\",y1.median(),\"pour\",y1.count(),\"articles\")\n",
    "print(\"la mediane de vue des articles onair vus le mardi est\",y2.median(),\"pour\",y2.count(),\"articles\")\n",
    "print(\"la mediane de vue des articles onair vus le mercredi est\",y3.median(),\"pour\",y3.count(),\"articles\")\n",
    "print(\"la mediane de vue des articles onair vus le jeudi est\",y4.median(),\"pour\",y4.count(),\"articles\")\n",
    "print(\"la mediane de vue des articles onair vus le vendredi est\",y5.median(),\"pour\",y5.count(),\"articles\")\n",
    "print(\"la mediane de vue des articles onair vus le samedi est\",y6.median(),\"pour\",y6.count(),\"articles\")\n",
    "print(\"la mediane de vue des articles onair vus le dimanche est\",y7.median(),\"pour\",y7.count(),\"articles\")"
   ]
  },
  {
   "cell_type": "markdown",
   "metadata": {},
   "source": [
    "## Challenge the theme classification using the bag of words clustering\n",
    "We've seen that the theme classification wasn't a clear discriminant for the audience in Laccent views analysis. On the ONair video/audio content it seems clearer. But what the users see when he reaches the welcome page on thecompany intranet is not the category of any given article, its his title and sometimes its teaser, that is what leads the viewer to click or not on the article. Acknowledging this fact we will try another view on the articles using a bag of words clustering to determine if certain words are responsible for maximizing the views and to what topic or related articles they are linked."
   ]
  },
  {
   "cell_type": "code",
   "execution_count": 30,
   "metadata": {
    "collapsed": false
   },
   "outputs": [
    {
     "name": "stderr",
     "output_type": "stream",
     "text": [
      "/home/reddowan/anaconda3/lib/python3.5/site-packages/ipykernel/__main__.py:12: SettingWithCopyWarning: \n",
      "A value is trying to be set on a copy of a slice from a DataFrame\n",
      "\n",
      "See the caveats in the documentation: http://pandas.pydata.org/pandas-docs/stable/indexing.html#indexing-view-versus-copy\n"
     ]
    }
   ],
   "source": [
    "#Importing librairies to stem resume and titles of articles\n",
    "import re\n",
    "from nltk.stem.snowball import FrenchStemmer\n",
    "stemmer=FrenchStemmer()\n",
    "for index in range(len(Laccent['RESUME'])):\n",
    "    article=\"\"\n",
    "    titre=\"\"\n",
    "    for word in re.split(\"\\W+\",Laccent['RESUME'][index]):\n",
    "        article=article+stemmer.stem(word)+\" \"\n",
    "    for word in re.split(\"\\W+\",Laccent['TITRE'][index]):\n",
    "        titre=titre+stemmer.stem(word)+\" \"\n",
    "    Laccent['TITRE'][index]=titre\n"
   ]
  },
  {
   "cell_type": "code",
   "execution_count": 31,
   "metadata": {
    "collapsed": false
   },
   "outputs": [
    {
     "data": {
      "text/plain": [
       "(301, 3063)"
      ]
     },
     "execution_count": 31,
     "metadata": {},
     "output_type": "execute_result"
    }
   ],
   "source": [
    "#Importing stopwords for french language\n",
    "from stop_words import get_stop_words\n",
    "\n",
    "stop_words = get_stop_words('fr')\n",
    "#importing vectorizer to create a sparse matrix of all words token in Laccent.First step to words clustering (filter stopwords)\n",
    "from sklearn.feature_extraction.text import CountVectorizer\n",
    "count_vect = CountVectorizer(stop_words=stop_words)\n",
    "Resume_token = count_vect.fit_transform(Laccent['RESUME']+\" \"+Laccent['TITRE'])\n",
    "Resume_token.shape"
   ]
  },
  {
   "cell_type": "code",
   "execution_count": 32,
   "metadata": {
    "collapsed": false
   },
   "outputs": [
    {
     "name": "stdout",
     "output_type": "stream",
     "text": [
      "None\n"
     ]
    }
   ],
   "source": [
    "#Verifying that the stopwordshave been removed\n",
    "print(count_vect.vocabulary_.get(u'est'))"
   ]
  },
  {
   "cell_type": "code",
   "execution_count": 33,
   "metadata": {
    "collapsed": true
   },
   "outputs": [],
   "source": [
    "#Transform the matrix to tfidf to reduce the impact of frequent words for later clustering\n",
    "from sklearn.feature_extraction.text import TfidfTransformer\n",
    "transformer=TfidfTransformer()\n",
    "tfidf=transformer.fit_transform(Resume_token)"
   ]
  },
  {
   "cell_type": "code",
   "execution_count": 34,
   "metadata": {
    "collapsed": false
   },
   "outputs": [
    {
     "data": {
      "text/html": [
       "<div>\n",
       "<table border=\"1\" class=\"dataframe\">\n",
       "  <thead>\n",
       "    <tr style=\"text-align: right;\">\n",
       "      <th></th>\n",
       "      <th>DATE</th>\n",
       "      <th>TITRE</th>\n",
       "      <th>RESUME</th>\n",
       "      <th>THEME</th>\n",
       "      <th>SOUS_THEME</th>\n",
       "      <th>LIKES</th>\n",
       "      <th>VUES</th>\n",
       "      <th>CLUSTER</th>\n",
       "    </tr>\n",
       "  </thead>\n",
       "  <tbody>\n",
       "    <tr>\n",
       "      <th>0</th>\n",
       "      <td>2016-07-04</td>\n",
       "      <td>découvr oran nouvel destin d air franc</td>\n",
       "      <td>Dès le 27 juillet, Air France proposera à ses ...</td>\n",
       "      <td>CLIENT</td>\n",
       "      <td>PASSAGE</td>\n",
       "      <td>8</td>\n",
       "      <td>619</td>\n",
       "      <td>0</td>\n",
       "    </tr>\n",
       "    <tr>\n",
       "      <th>1</th>\n",
       "      <td>2016-07-04</td>\n",
       "      <td>le tech caf ouvr se port à cdg</td>\n",
       "      <td>Dans le cadre du plan de transformation digita...</td>\n",
       "      <td>TALENTS ET METIERS</td>\n",
       "      <td>SYSTEMES D'INFORMATION</td>\n",
       "      <td>7</td>\n",
       "      <td>265</td>\n",
       "      <td>1</td>\n",
       "    </tr>\n",
       "    <tr>\n",
       "      <th>2</th>\n",
       "      <td>2016-07-01</td>\n",
       "      <td>cap ver cub avec air franc et msc croisi</td>\n",
       "      <td>Le 1er juillet 2016, Air France et MSC Croisiè...</td>\n",
       "      <td>CLIENT</td>\n",
       "      <td>PARTENARIATS</td>\n",
       "      <td>4</td>\n",
       "      <td>835</td>\n",
       "      <td>0</td>\n",
       "    </tr>\n",
       "    <tr>\n",
       "      <th>3</th>\n",
       "      <td>2016-06-30</td>\n",
       "      <td>l eco sur un plateau ep 2 la maîtris de nos dé...</td>\n",
       "      <td>Pourquoi la maîtrise de nos dépenses est-elle ...</td>\n",
       "      <td>ECONOMIE ET FINANCES</td>\n",
       "      <td>STRATEGIE</td>\n",
       "      <td>10</td>\n",
       "      <td>1370</td>\n",
       "      <td>0</td>\n",
       "    </tr>\n",
       "    <tr>\n",
       "      <th>4</th>\n",
       "      <td>2016-06-30</td>\n",
       "      <td>la simplif au servic de la ponctual</td>\n",
       "      <td>Depuis le 28 avril, sur les vols long-courrier...</td>\n",
       "      <td>STRATEGIE</td>\n",
       "      <td>PERFORM 2020</td>\n",
       "      <td>66</td>\n",
       "      <td>2186</td>\n",
       "      <td>2</td>\n",
       "    </tr>\n",
       "  </tbody>\n",
       "</table>\n",
       "</div>"
      ],
      "text/plain": [
       "         DATE                                              TITRE  \\\n",
       "0  2016-07-04            découvr oran nouvel destin d air franc    \n",
       "1  2016-07-04                    le tech caf ouvr se port à cdg    \n",
       "2  2016-07-01          cap ver cub avec air franc et msc croisi    \n",
       "3  2016-06-30  l eco sur un plateau ep 2 la maîtris de nos dé...   \n",
       "4  2016-06-30               la simplif au servic de la ponctual    \n",
       "\n",
       "                                              RESUME                 THEME  \\\n",
       "0  Dès le 27 juillet, Air France proposera à ses ...                CLIENT   \n",
       "1  Dans le cadre du plan de transformation digita...    TALENTS ET METIERS   \n",
       "2  Le 1er juillet 2016, Air France et MSC Croisiè...                CLIENT   \n",
       "3  Pourquoi la maîtrise de nos dépenses est-elle ...  ECONOMIE ET FINANCES   \n",
       "4  Depuis le 28 avril, sur les vols long-courrier...             STRATEGIE   \n",
       "\n",
       "               SOUS_THEME  LIKES  VUES  CLUSTER  \n",
       "0                 PASSAGE      8   619        0  \n",
       "1  SYSTEMES D'INFORMATION      7   265        1  \n",
       "2            PARTENARIATS      4   835        0  \n",
       "3               STRATEGIE     10  1370        0  \n",
       "4            PERFORM 2020     66  2186        2  "
      ]
     },
     "execution_count": 34,
     "metadata": {},
     "output_type": "execute_result"
    }
   ],
   "source": [
    "#Import KMeans algorithm, create a list of cluster attribution for each article, add it to the dataframe\n",
    "from sklearn.cluster import KMeans\n",
    "from scipy.sparse import csc_matrix, hstack\n",
    "\n",
    "tfidf_vues=hstack([tfidf,csc_matrix(Laccent['VUES']/8000).T])\n",
    "y_pred = KMeans(n_clusters=5).fit_predict(tfidf_vues)\n",
    "#y_pred = KMeans(n_clusters=5).fit_predict(tfidf_vues)\n",
    "Laccent['CLUSTER']=y_pred\n",
    "Laccent.head(5)"
   ]
  },
  {
   "cell_type": "code",
   "execution_count": 35,
   "metadata": {
    "collapsed": false
   },
   "outputs": [
    {
     "name": "stdout",
     "output_type": "stream",
     "text": [
      "la mediane de vue des articles Laccent du cluster 0 est 641.0 pour 163 articles\n",
      "la mediane de vue des articles Laccent du cluster 1 est 654.5 pour 64 articles\n",
      "la mediane de vue des articles Laccent du cluster 2 est 2550.0 pour 66 articles\n",
      "la mediane de vue des articles Laccent du cluster 3 est 8466.0 pour 7 articles\n",
      "la mediane de vue des articles Laccent du cluster 4 est 25340.0 pour 1 articles\n"
     ]
    }
   ],
   "source": [
    "Laccent[Laccent.CLUSTER==0]['VUES'].median()\n",
    "print(\"la mediane de vue des articles Laccent du cluster 0 est\",Laccent[Laccent.CLUSTER==0]['VUES'].median(),\"pour\",Laccent[Laccent.CLUSTER==0]['VUES'].count(),\"articles\")\n",
    "print(\"la mediane de vue des articles Laccent du cluster 1 est\",Laccent[Laccent.CLUSTER==1]['VUES'].median(),\"pour\",Laccent[Laccent.CLUSTER==1]['VUES'].count(),\"articles\")\n",
    "print(\"la mediane de vue des articles Laccent du cluster 2 est\",Laccent[Laccent.CLUSTER==2]['VUES'].median(),\"pour\",Laccent[Laccent.CLUSTER==2]['VUES'].count(),\"articles\")\n",
    "print(\"la mediane de vue des articles Laccent du cluster 3 est\",Laccent[Laccent.CLUSTER==3]['VUES'].median(),\"pour\",Laccent[Laccent.CLUSTER==3]['VUES'].count(),\"articles\")\n",
    "print(\"la mediane de vue des articles Laccent du cluster 4 est\",Laccent[Laccent.CLUSTER==4]['VUES'].median(),\"pour\",Laccent[Laccent.CLUSTER==4]['VUES'].count(),\"articles\")\n",
    "#print(\"la mediane de vue des articles Laccent du cluster 5 est\",Laccent[Laccent.CLUSTER==5]['VUES'].median(),\"pour\",Laccent[Laccent.CLUSTER==5]['VUES'].count(),\"articles\")\n",
    "#print(\"la mediane de vue des articles Laccent du cluster 6 est\",Laccent[Laccent.CLUSTER==6]['VUES'].median(),\"pour\",Laccent[Laccent.CLUSTER==6]['VUES'].count(),\"articles\")\n",
    "#print(\"la mediane de vue des articles Laccent du cluster 7 est\",Laccent[Laccent.CLUSTER==7]['VUES'].median(),\"pour\",Laccent[Laccent.CLUSTER==7]['VUES'].count(),\"articles\")\n",
    "#print(\"la mediane de vue des articles Laccent du cluster 8 est\",Laccent[Laccent.CLUSTER==8]['VUES'].median(),\"pour\",Laccent[Laccent.CLUSTER==8]['VUES'].count(),\"articles\")\n",
    "#print(\"la mediane de vue des articles Laccent du cluster 9 est\",Laccent[Laccent.CLUSTER==9]['VUES'].median(),\"pour\",Laccent[Laccent.CLUSTER==9]['VUES'].count(),\"articles\")\n"
   ]
  },
  {
   "cell_type": "code",
   "execution_count": 36,
   "metadata": {
    "collapsed": false
   },
   "outputs": [
    {
     "name": "stdout",
     "output_type": "stream",
     "text": [
      "les themes du cluster 0 dont la médiane de vue est la plus faible (641) sont ['ALLIANCES' 'BEST AND BEYOND' 'BOITE A QUESTIONS' 'CARGO' 'CLIENT'\n",
      " 'COMMUNICATION' 'COURT COURRIER' 'DEVELOPPEMENT DURABLE' 'DIGITAL'\n",
      " 'ECONOMIE ET FINANCES' 'FLOTTE' 'FLYING BLUE' 'FONDATION AIR FRANCE'\n",
      " 'GROUPE' 'HOP! AIR FRANCE' 'INDUSTRIE' 'LONG COURRIER' 'PARTENARIATS'\n",
      " 'PASSAGE' 'PERFORM 2020' 'PONCTUALITE' 'PRIX ET RECOMPENSES'\n",
      " 'PRODUITS ET SERVICES' 'PROGRAMME' 'SECURITE DES VOLS' 'STRATEGIE'\n",
      " 'TALENTS ET METIERS' 'TRANSAVIA'] \n",
      "\n",
      "les themes du cluster 1 dont la médiane de vue est également faible (654) sont ['BOITE A QUESTIONS' 'CLIENT' 'COMMUNICATION' 'DEVELOPPEMENT DURABLE'\n",
      " 'ECONOMIE ET FINANCES' 'FONDATION AIR FRANCE' 'HOP! AIR FRANCE'\n",
      " 'INDUSTRIE' 'PARTENARIATS' 'PASSAGE' 'PERFORM 2020' 'PONCTUALITE'\n",
      " 'PRIX ET RECOMPENSES' 'SECURITE DES VOLS' 'STRATEGIE'\n",
      " \"SYSTEMES D'INFORMATION\" 'TALENTS ET METIERS' 'TRANSAVIA'] \n",
      "\n",
      "les themes du cluster 2 dont la médiane de vue est de 2550 vues sont ['BEST AND BEYOND' 'CLIENT' 'COMMUNICATION' 'FLOTTE' 'GROUPE'\n",
      " 'HOP! AIR FRANCE' 'MOYEN COURRIER' 'PARTENARIATS' 'PASSAGE' 'PERFORM 2020'\n",
      " 'PRIX ET RECOMPENSES' 'PRODUITS ET SERVICES' 'PROGRAMME' 'STRATEGIE'\n",
      " \"SYSTEMES D'INFORMATION\" 'TALENTS ET METIERS' 'TRANSAVIA'] \n",
      "\n",
      "les themes du cluster 3 dont la médiane de vue est 8466 vues sont ['CLIENT' 'COMMUNICATION' 'FLOTTE' 'TALENTS ET METIERS'] \n",
      "\n",
      "les themes du cluster 4 qui ne contient qu'un article (pas représentatif) sont ['TALENTS ET METIERS'] \n",
      "\n"
     ]
    }
   ],
   "source": [
    "#Lets compare our clustrering based on the bag of words approach to the THEME clustering\n",
    "print(\"les themes du cluster 0 dont la médiane de vue est la plus faible (641) sont\",np.unique(Laccent[Laccent.CLUSTER==0]['THEME']),\"\\n\")\n",
    "print(\"les themes du cluster 1 dont la médiane de vue est également faible (654) sont\",np.unique(Laccent[Laccent.CLUSTER==1]['THEME']),\"\\n\")\n",
    "print(\"les themes du cluster 2 dont la médiane de vue est de 2550 vues sont\",np.unique(Laccent[Laccent.CLUSTER==2]['THEME']),\"\\n\")\n",
    "print(\"les themes du cluster 3 dont la médiane de vue est 8466 vues sont\",np.unique(Laccent[Laccent.CLUSTER==3]['THEME']),\"\\n\")\n",
    "print(\"les themes du cluster 4 qui ne contient qu'un article (pas représentatif) sont\",np.unique(Laccent[Laccent.CLUSTER==4]['THEME']),\"\\n\")\n",
    "#print(\"les themes du cluster 5 sont\",np.unique(Laccent[Laccent.CLUSTER==5]['THEME']),\"\\n\")\n",
    "#print(\"les themes du cluster 6 sont\",np.unique(Laccent[Laccent.CLUSTER==6]['THEME']),\"\\n\")\n",
    "#print(\"les themes du cluster 7 sont\",np.unique(Laccent[Laccent.CLUSTER==7]['THEME']),\"\\n\")\n",
    "#print(\"les themes du cluster 8 sont\",np.unique(Laccent[Laccent.CLUSTER==8]['THEME']),\"\\n\")\n",
    "#print(\"les themes du cluster 9 sont\",np.unique(Laccent[Laccent.CLUSTER==9]['THEME']))"
   ]
  },
  {
   "cell_type": "code",
   "execution_count": 37,
   "metadata": {
    "collapsed": false
   },
   "outputs": [
    {
     "data": {
      "text/plain": [
       "array([[  3.61668731e-03,   0.00000000e+00,   7.94248045e-03, ...,\n",
       "          3.72702830e-03,   2.82493251e-03,   7.01482143e-02],\n",
       "       [  0.00000000e+00,   4.00773557e-03,   6.11901197e-03, ...,\n",
       "          3.30567932e-03,   0.00000000e+00,   3.64085000e-01],\n",
       "       [  2.06485463e-03,   0.00000000e+00,   1.36690406e-03, ...,\n",
       "          1.97858074e-03,   0.00000000e+00,   1.41013554e-01],\n",
       "       [  0.00000000e+00,   0.00000000e+00,   9.97204222e-03, ...,\n",
       "          0.00000000e+00,   0.00000000e+00,   1.35352273e-01],\n",
       "       [  2.94145674e-02,   0.00000000e+00,   0.00000000e+00, ...,\n",
       "          0.00000000e+00,   0.00000000e+00,   1.51181250e+00]])"
      ]
     },
     "execution_count": 37,
     "metadata": {},
     "output_type": "execute_result"
    }
   ],
   "source": [
    "#Isolating the winning words \n",
    "kmeans=KMeans(n_clusters=5).fit(tfidf_vues)\n",
    "kmeans.cluster_centers_"
   ]
  },
  {
   "cell_type": "code",
   "execution_count": 81,
   "metadata": {
    "collapsed": false
   },
   "outputs": [
    {
     "name": "stdout",
     "output_type": "stream",
     "text": [
      "120\n"
     ]
    },
    {
     "data": {
      "text/plain": [
       "'747'"
      ]
     },
     "execution_count": 81,
     "metadata": {},
     "output_type": "execute_result"
    }
   ],
   "source": [
    "#Biggest winning words\n",
    "#getter=tuple(np.array(np.nonzero(kmeans.cluster_centers_[1][0].argmax())))\n",
    "getter=kmeans.cluster_centers_[4][0:3062].argmax()\n",
    "\n",
    "print(getter)\n",
    "from operator import itemgetter \n",
    "itemgetter(getter)(count_vect.get_feature_names())"
   ]
  },
  {
   "cell_type": "markdown",
   "metadata": {},
   "source": [
    "## Conclusion\n",
    "In this document,we've seen in the first part how the data can be played with to build a first data model which use the dimensions of the data:\n",
    "- what are the general statistics of the article numbers of views, and the hitory\n",
    "- how the date can be transformed to a one hot encoder model to see the influence on views\n",
    "- how the human classification of theme influence the views (poorly)\n",
    "In the second part we've challenged this theme classification because people do not see theme they see words, so we used the bag of words transformation with the tf-idf to correct the importance of each token relatively to their frequence in all documents. We've created a new data model on which we created clusters using the Kmeans algorithm.\n",
    "The result is quite probing, because we have now 5 clusters of words corresponding to very different \"audience acclaim\", this first result shows that there may not be 20+ theme in the audience head but 5 \"bag of words\" which will determine if a viewer will read the article or not.\n",
    "The next step is to build a predictor of the number of views using this new data model with the bag of words representation, the cluster attibution and the date of publication.\n"
   ]
  },
  {
   "cell_type": "markdown",
   "metadata": {},
   "source": [
    "## Building a predictor \n",
    "Using the data model we have now developed we will build a predictor of the number of views per articles."
   ]
  }
 ],
 "metadata": {
  "anaconda-cloud": {},
  "kernelspec": {
   "display_name": "Python [Root]",
   "language": "python",
   "name": "Python [Root]"
  },
  "language_info": {
   "codemirror_mode": {
    "name": "ipython",
    "version": 3
   },
   "file_extension": ".py",
   "mimetype": "text/x-python",
   "name": "python",
   "nbconvert_exporter": "python",
   "pygments_lexer": "ipython3",
   "version": "3.5.2"
  }
 },
 "nbformat": 4,
 "nbformat_minor": 0
}
